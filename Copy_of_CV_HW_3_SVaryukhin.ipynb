{
  "nbformat": 4,
  "nbformat_minor": 0,
  "metadata": {
    "accelerator": "GPU",
    "colab": {
      "name": "Copy of CV_HW_3_SVaryukhin.ipynb",
      "provenance": [],
      "collapsed_sections": [],
      "include_colab_link": true
    },
    "kernelspec": {
      "display_name": "Python 3",
      "language": "python",
      "name": "python3"
    },
    "language_info": {
      "codemirror_mode": {
        "name": "ipython",
        "version": 3
      },
      "file_extension": ".py",
      "mimetype": "text/x-python",
      "name": "python",
      "nbconvert_exporter": "python",
      "pygments_lexer": "ipython3",
      "version": "3.6.9"
    }
  },
  "cells": [
    {
      "cell_type": "markdown",
      "metadata": {
        "id": "view-in-github",
        "colab_type": "text"
      },
      "source": [
        "<a href=\"https://colab.research.google.com/github/Sergey-asdfg/GeekBrains/blob/main/Copy_of_CV_HW_3_SVaryukhin.ipynb\" target=\"_parent\"><img src=\"https://colab.research.google.com/assets/colab-badge.svg\" alt=\"Open In Colab\"/></a>"
      ]
    },
    {
      "cell_type": "markdown",
      "metadata": {
        "id": "Dzo2IEA_Y8hA"
      },
      "source": [
        "# Продвинутые Свёрточные Нейронные Сети.\n",
        "# Transfer Learning and Augmentation."
      ]
    },
    {
      "cell_type": "markdown",
      "metadata": {
        "id": "JN9Q3GcnZDh7"
      },
      "source": [
        "## Переключение версии TensorFlow"
      ]
    },
    {
      "cell_type": "code",
      "metadata": {
        "id": "8E9brMspmWJK"
      },
      "source": [
        "import matplotlib.pyplot as plt\n",
        "%matplotlib inline\n",
        "import numpy as np\n",
        "import tensorflow as tf\n",
        "import tensorflow_datasets as tfds\n",
        "\n",
        "from tensorflow.keras import layers"
      ],
      "execution_count": 1,
      "outputs": []
    },
    {
      "cell_type": "markdown",
      "metadata": {
        "id": "iC9dEnBtZKIO"
      },
      "source": [
        "## Загрузка датасета  Food-101 "
      ]
    },
    {
      "cell_type": "code",
      "metadata": {
        "id": "58EmCr_7_0Iz",
        "colab": {
          "base_uri": "https://localhost:8080/"
        },
        "outputId": "d3363911-c5e8-4fd2-a638-ab284063fc2f"
      },
      "source": [
        "tfds.disable_progress_bar()\n",
        "(train_ds, test_ds), ds_info = tfds.load(\n",
        "    'food101', \n",
        "    as_supervised=True,\n",
        "    with_info=True,\n",
        "    split=['train[:90%]', 'train[90%:]'],\n",
        ")"
      ],
      "execution_count": null,
      "outputs": [
        {
          "output_type": "stream",
          "name": "stdout",
          "text": [
            "\u001b[1mDownloading and preparing dataset food101/2.0.0 (download: 4.65 GiB, generated: Unknown size, total: 4.65 GiB) to /root/tensorflow_datasets/food101/2.0.0...\u001b[0m\n"
          ]
        }
      ]
    },
    {
      "cell_type": "markdown",
      "metadata": {
        "id": "XNaNZr4ZZNmK"
      },
      "source": [
        "## Визуализация датасета Food-101"
      ]
    },
    {
      "cell_type": "code",
      "metadata": {
        "id": "m3hxPxwH2dnh"
      },
      "source": [
        "some_samples = [x[0] for x in iter(train_ds.take(32))]\n",
        "\n",
        "fig = plt.figure(figsize=(16, 8))\n",
        "for j in range(len(some_samples)):\n",
        "    ax = fig.add_subplot(4, 8, j+1)\n",
        "    ax.imshow(some_samples[j])\n",
        "    plt.xticks([]), plt.yticks([])\n",
        "plt.show()"
      ],
      "execution_count": null,
      "outputs": []
    },
    {
      "cell_type": "markdown",
      "metadata": {
        "id": "LQHQd5kR2dnk"
      },
      "source": [
        "## Создание пайплайна данных (с аугментацией)"
      ]
    },
    {
      "cell_type": "code",
      "metadata": {
        "id": "i6_P73IumWJT"
      },
      "source": [
        "IMG_SIZE = 160\n",
        "batch_size = 32\n",
        "NUM_EPOCHS = 10\n",
        "AUTOTUNE = tf.data.AUTOTUNE\n",
        "\n",
        "resize_and_rescale = tf.keras.Sequential([\n",
        "  layers.experimental.preprocessing.Resizing(IMG_SIZE, IMG_SIZE),\n",
        "  layers.experimental.preprocessing.Rescaling(1./127 - 1.)\n",
        "])\n",
        "\n",
        "data_augmentation = tf.keras.Sequential([\n",
        "  layers.experimental.preprocessing.RandomFlip(\"horizontal_and_vertical\"),\n",
        "  layers.experimental.preprocessing.RandomRotation(0.2),\n",
        "])\n",
        "\n",
        "\n",
        "def prepare(ds, shuffle=False, augment=False):\n",
        "    # Resize and rescale all datasets\n",
        "    ds = ds.map(lambda x, y: (resize_and_rescale(x), y), \n",
        "              num_parallel_calls=AUTOTUNE)\n",
        "\n",
        "    if shuffle:\n",
        "        ds = ds.shuffle(1000)\n",
        "\n",
        "    # Batch all datasets\n",
        "    ds = ds.batch(batch_size)\n",
        "\n",
        "    # Use data augmentation only on the training set\n",
        "    if augment:\n",
        "        ds = ds.map(lambda x, y: (data_augmentation(x, training=True), y), \n",
        "                    num_parallel_calls=AUTOTUNE)\n",
        "\n",
        "    # Use buffered prefecting on all datasets\n",
        "    return ds.prefetch(buffer_size=AUTOTUNE)\n",
        "\n",
        "train_ds = prepare(train_ds, shuffle=True, augment=True)\n",
        "test_ds = prepare(test_ds)"
      ],
      "execution_count": null,
      "outputs": []
    },
    {
      "cell_type": "markdown",
      "metadata": {
        "id": "1U_2HocoZTCG"
      },
      "source": [
        "# Подготовка модели CNN"
      ]
    },
    {
      "cell_type": "code",
      "metadata": {
        "id": "0fiOTnXTwHJo"
      },
      "source": [
        "if 0: # Обучение модели с нуля\n",
        "\n",
        "    EXP_NAME = 'scratch'\n",
        "    base_model = tf.keras.applications.MobileNetV2(\n",
        "        input_shape=(INP_SIZE, INP_SIZE, 3),\n",
        "        include_top=False,\n",
        "        weights=None,\n",
        "    )\n",
        "    base_model.trainable = True\n",
        "\n",
        "else: # Transfer Learning\n",
        "\n",
        "    EXP_NAME = 'transfer'\n",
        "    base_model = tf.keras.applications.MobileNetV2(\n",
        "        input_shape=(INP_SIZE, INP_SIZE, 3),\n",
        "        include_top=False,\n",
        "        weights='imagenet',\n",
        "    )\n",
        "    base_model.trainable = True # Fine-tuning весов предобученной модели\n",
        "    # base_model.trainable = False # Заморозка весов предобученной модели\n",
        "\n",
        "model = tf.keras.Sequential([\n",
        "    base_model,\n",
        "    tf.keras.layers.GlobalAveragePooling2D(),\n",
        "    tf.keras.layers.Dense(101, activation='softmax'),\n",
        "])"
      ],
      "execution_count": null,
      "outputs": []
    },
    {
      "cell_type": "markdown",
      "metadata": {
        "id": "tKNAYTcZ2dnu"
      },
      "source": [
        "## Подготовка к обучению"
      ]
    },
    {
      "cell_type": "code",
      "metadata": {
        "id": "qX3skM3RQKpL"
      },
      "source": [
        "LEARNING_RATE = 0.0001\n",
        "optimizer = tf.keras.optimizers.RMSprop(lr=LEARNING_RATE)\n",
        "\n",
        "model.compile(optimizer=optimizer,\n",
        "              loss='sparse_categorical_crossentropy',\n",
        "              metrics=['accuracy'])\n",
        "\n",
        "tensorboard_callback = tf.keras.callbacks.TensorBoard(\n",
        "    log_dir='logs/'+EXP_NAME, \n",
        "    write_graph=False, update_freq=100, profile_batch=0)"
      ],
      "execution_count": null,
      "outputs": []
    },
    {
      "cell_type": "markdown",
      "metadata": {
        "id": "Leqh75tMaNUX"
      },
      "source": [
        "## Model Summary"
      ]
    },
    {
      "cell_type": "code",
      "metadata": {
        "id": "v1NLh_QugbOh"
      },
      "source": [
        "model.summary()"
      ],
      "execution_count": null,
      "outputs": []
    },
    {
      "cell_type": "markdown",
      "metadata": {
        "id": "oTIlc5VfaRzx"
      },
      "source": [
        "## Обучение модели"
      ]
    },
    {
      "cell_type": "code",
      "metadata": {
        "id": "QFL1EsfAPrWI"
      },
      "source": [
        "%%time\n",
        "\n",
        "history = model.fit(\n",
        "    train_ds,\n",
        "    epochs=NUM_EPOCHS,\n",
        "    validation_data=test_ds,\n",
        "    callbacks=[tensorboard_callback])"
      ],
      "execution_count": null,
      "outputs": []
    },
    {
      "cell_type": "markdown",
      "metadata": {
        "id": "DXivvnU9aVDb"
      },
      "source": [
        "## Оценка качества модели"
      ]
    },
    {
      "cell_type": "code",
      "metadata": {
        "id": "gzcqc10a79hN"
      },
      "source": [
        "%%time\n",
        "\n",
        "model.evaluate(test_ds)"
      ],
      "execution_count": null,
      "outputs": []
    },
    {
      "cell_type": "markdown",
      "metadata": {
        "id": "iDBq9ChEaXQi"
      },
      "source": [
        "## TensorBoard"
      ]
    },
    {
      "cell_type": "code",
      "metadata": {
        "id": "imo5YCCV-1SF"
      },
      "source": [
        "%load_ext tensorboard\n",
        "%tensorboard --logdir logs"
      ],
      "execution_count": null,
      "outputs": []
    },
    {
      "cell_type": "code",
      "metadata": {
        "id": "zQ2ZyE3OmWJf"
      },
      "source": [
        "Выводы: довольно сложный датасет, т.к. я делал на ноутбуке, то пришлось в 5 раз уменьшать обучающий датасет\n",
        "    и делать только обучение последнего слоя, используя замороженные параметры сети MobileNet. Тем не менее,\n",
        "    используемый подход показывает хорошие результаты и перспективу, используя компьютер с графической картой \n",
        "    можно будет, скорее всего, хороших результатов."
      ],
      "execution_count": null,
      "outputs": []
    }
  ]
}